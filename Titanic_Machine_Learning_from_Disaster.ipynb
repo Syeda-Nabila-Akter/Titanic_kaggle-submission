{
  "nbformat": 4,
  "nbformat_minor": 0,
  "metadata": {
    "colab": {
      "provenance": []
    },
    "kernelspec": {
      "name": "python3",
      "display_name": "Python 3"
    },
    "language_info": {
      "name": "python"
    }
  },
  "cells": [
    {
      "cell_type": "code",
      "execution_count": null,
      "metadata": {
        "id": "LTqL_vkTo0K_"
      },
      "outputs": [],
      "source": [
        "import pandas as pd\n",
        "from sklearn.preprocessing import LabelEncoder\n",
        "from sklearn.linear_model import LogisticRegression\n",
        "from sklearn.model_selection import train_test_split\n",
        "from sklearn.metrics import accuracy_score"
      ]
    },
    {
      "cell_type": "code",
      "source": [
        "train_data = pd.read_csv('train.csv')\n",
        "#print(train_data)\n",
        "test_data = pd.read_csv('test.csv')\n",
        "#print(test_data)\n",
        "test_ids = test_data[\"PassengerId\"]\n",
        "#test_ids"
      ],
      "metadata": {
        "id": "ejaA_vxspCKJ"
      },
      "execution_count": null,
      "outputs": []
    },
    {
      "cell_type": "code",
      "source": [
        "def fn_clean(d):\n",
        "  d = d.drop(['PassengerId','Name','Ticket', 'Cabin', 'Fare'], axis=1)\n",
        "\n",
        "  columns = ['Age', 'Pclass', 'SibSp', 'Parch']\n",
        "\n",
        "  for col in columns:\n",
        "    d[col].fillna(d[col].mean(), inplace=True)\n",
        "  return d\n",
        "\n",
        "tr = fn_clean(train_data)\n",
        "ts = fn_clean(test_data)\n",
        "\n",
        "print(ts)"
      ],
      "metadata": {
        "colab": {
          "base_uri": "https://localhost:8080/"
        },
        "id": "7c4Kgb89y8yS",
        "outputId": "f55a0789-5ab8-4e32-febf-67980c4004bb"
      },
      "execution_count": null,
      "outputs": [
        {
          "output_type": "stream",
          "name": "stdout",
          "text": [
            "     Pclass     Sex       Age  SibSp  Parch Embarked\n",
            "0         3    male  34.50000      0      0        Q\n",
            "1         3  female  47.00000      1      0        S\n",
            "2         2    male  62.00000      0      0        Q\n",
            "3         3    male  27.00000      0      0        S\n",
            "4         3  female  22.00000      1      1        S\n",
            "..      ...     ...       ...    ...    ...      ...\n",
            "413       3    male  30.27259      0      0        S\n",
            "414       1  female  39.00000      0      0        C\n",
            "415       3    male  38.50000      0      0        S\n",
            "416       3    male  30.27259      0      0        S\n",
            "417       3    male  30.27259      1      1        C\n",
            "\n",
            "[418 rows x 6 columns]\n"
          ]
        }
      ]
    },
    {
      "cell_type": "code",
      "source": [
        "le = LabelEncoder()\n",
        "c = ['Sex', 'Embarked']\n",
        "\n",
        "for i in c:\n",
        "  tr[i] = le.fit_transform(tr[i])\n",
        "  ts[i] = le.fit_transform(ts[i])\n",
        "\n",
        "#ts.head(5)"
      ],
      "metadata": {
        "id": "iYtTHOOqEhyc"
      },
      "execution_count": null,
      "outputs": []
    },
    {
      "cell_type": "code",
      "source": [
        "y_read = pd.read_csv('gender_submission.csv')\n",
        "y = y_read['Survived']\n",
        "X = ts\n",
        "X_train, X_val, y_train, y_val = train_test_split(X, y, test_size=0.2, random_state=42)"
      ],
      "metadata": {
        "id": "UqDWXs7Xz-nK"
      },
      "execution_count": null,
      "outputs": []
    },
    {
      "cell_type": "code",
      "source": [
        "classfic = LogisticRegression(random_state=0, max_iter=1000).fit(X_train, y_train)"
      ],
      "metadata": {
        "id": "fXK7gAIb8nd-"
      },
      "execution_count": null,
      "outputs": []
    },
    {
      "cell_type": "code",
      "source": [
        "pdtn = classfic.predict(X_val)\n",
        "accuracy_score(y_val, pdtn)"
      ],
      "metadata": {
        "colab": {
          "base_uri": "https://localhost:8080/"
        },
        "id": "CC5wPNIyFs-e",
        "outputId": "544b64c8-2402-4dc9-d88a-c2c369b20ea7"
      },
      "execution_count": null,
      "outputs": [
        {
          "output_type": "execute_result",
          "data": {
            "text/plain": [
              "1.0"
            ]
          },
          "metadata": {},
          "execution_count": 150
        }
      ]
    },
    {
      "cell_type": "code",
      "source": [
        "sub_pdtn = classfic.predict(ts)"
      ],
      "metadata": {
        "id": "pGjo2ysGGkjB"
      },
      "execution_count": null,
      "outputs": []
    },
    {
      "cell_type": "code",
      "source": [
        "data = {\n",
        "    \"PassengerId\": test_ids.values,\n",
        "    \"Survived\": sub_pdtn\n",
        "}\n",
        "\n",
        "df = pd.DataFrame(data)"
      ],
      "metadata": {
        "id": "MMOxY2FCGx_M"
      },
      "execution_count": null,
      "outputs": []
    },
    {
      "cell_type": "code",
      "source": [
        "df.to_csv(\"submission.csv\", index=False)"
      ],
      "metadata": {
        "id": "jEwItPxIJGpp"
      },
      "execution_count": null,
      "outputs": []
    }
  ]
}